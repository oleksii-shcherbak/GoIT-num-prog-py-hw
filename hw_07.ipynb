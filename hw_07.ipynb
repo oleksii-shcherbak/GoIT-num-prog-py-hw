{
  "nbformat": 4,
  "nbformat_minor": 0,
  "metadata": {
    "colab": {
      "provenance": [],
      "authorship_tag": "ABX9TyPuYHUyo/GAJoeeRFrTxSb+",
      "include_colab_link": true
    },
    "kernelspec": {
      "name": "python3",
      "display_name": "Python 3"
    },
    "language_info": {
      "name": "python"
    }
  },
  "cells": [
    {
      "cell_type": "markdown",
      "metadata": {
        "id": "view-in-github",
        "colab_type": "text"
      },
      "source": [
        "<a href=\"https://colab.research.google.com/github/oleksii-shcherbak/GoIT-num-prog-py-hw/blob/main/hw_07.ipynb\" target=\"_parent\"><img src=\"https://colab.research.google.com/assets/colab-badge.svg\" alt=\"Open In Colab\"/></a>"
      ]
    },
    {
      "cell_type": "markdown",
      "source": [
        "### Step 1"
      ],
      "metadata": {
        "id": "9Qg0MbhxckhO"
      }
    },
    {
      "cell_type": "code",
      "source": [
        "# Download the dataset\n",
        "!wget -O SpamEmailClassificationDataset.zip https://github.com/goitacademy/NUMERICAL-PROGRAMMING-IN-PYTHON/blob/main/SpamEmailClassificationDataset.zip?raw=true\n",
        "\n",
        "# Unzip the file\n",
        "!unzip SpamEmailClassificationDataset.zip"
      ],
      "metadata": {
        "colab": {
          "base_uri": "https://localhost:8080/"
        },
        "id": "otepplkGcoMn",
        "outputId": "e3c448fa-8eff-4c70-8592-7802afbe03be"
      },
      "execution_count": null,
      "outputs": [
        {
          "output_type": "stream",
          "name": "stdout",
          "text": [
            "--2025-09-13 07:07:29--  https://github.com/goitacademy/NUMERICAL-PROGRAMMING-IN-PYTHON/blob/main/SpamEmailClassificationDataset.zip?raw=true\n",
            "Resolving github.com (github.com)... 140.82.114.3\n",
            "Connecting to github.com (github.com)|140.82.114.3|:443... connected.\n",
            "HTTP request sent, awaiting response... 302 Found\n",
            "Location: https://github.com/goitacademy/NUMERICAL-PROGRAMMING-IN-PYTHON/raw/refs/heads/main/SpamEmailClassificationDataset.zip [following]\n",
            "--2025-09-13 07:07:29--  https://github.com/goitacademy/NUMERICAL-PROGRAMMING-IN-PYTHON/raw/refs/heads/main/SpamEmailClassificationDataset.zip\n",
            "Reusing existing connection to github.com:443.\n",
            "HTTP request sent, awaiting response... 302 Found\n",
            "Location: https://raw.githubusercontent.com/goitacademy/NUMERICAL-PROGRAMMING-IN-PYTHON/refs/heads/main/SpamEmailClassificationDataset.zip [following]\n",
            "--2025-09-13 07:07:29--  https://raw.githubusercontent.com/goitacademy/NUMERICAL-PROGRAMMING-IN-PYTHON/refs/heads/main/SpamEmailClassificationDataset.zip\n",
            "Resolving raw.githubusercontent.com (raw.githubusercontent.com)... 185.199.108.133, 185.199.109.133, 185.199.110.133, ...\n",
            "Connecting to raw.githubusercontent.com (raw.githubusercontent.com)|185.199.108.133|:443... connected.\n",
            "HTTP request sent, awaiting response... 200 OK\n",
            "Length: 7577397 (7.2M) [application/zip]\n",
            "Saving to: ‘SpamEmailClassificationDataset.zip’\n",
            "\n",
            "SpamEmailClassifica 100%[===================>]   7.23M  --.-KB/s    in 0.1s    \n",
            "\n",
            "2025-09-13 07:07:30 (74.0 MB/s) - ‘SpamEmailClassificationDataset.zip’ saved [7577397/7577397]\n",
            "\n",
            "Archive:  SpamEmailClassificationDataset.zip\n",
            "replace SpamEmailClassificationDataset/combined_data.csv? [y]es, [n]o, [A]ll, [N]one, [r]ename: A\n",
            "  inflating: SpamEmailClassificationDataset/combined_data.csv  \n"
          ]
        }
      ]
    },
    {
      "cell_type": "markdown",
      "source": [
        "### Step 2"
      ],
      "metadata": {
        "id": "Xdr7Z9XAcS-m"
      }
    },
    {
      "cell_type": "code",
      "source": [
        "import pandas as pd\n",
        "import numpy as np\n",
        "import seaborn as sns\n",
        "import matplotlib.pyplot as plt\n",
        "\n",
        "import re\n",
        "from nltk.corpus import stopwords\n",
        "from nltk.tokenize import word_tokenize\n",
        "\n",
        "# Download NLTK data\n",
        "import nltk\n",
        "nltk.download('stopwords')\n",
        "nltk.download('punkt')\n",
        "nltk.download('wordnet')\n",
        "nltk.download('omw-1.4')\n",
        "\n",
        "stop_words = set(stopwords.words('english'))"
      ],
      "metadata": {
        "colab": {
          "base_uri": "https://localhost:8080/"
        },
        "id": "SETaNaWAcq0b",
        "outputId": "a54c86cd-63da-4e11-e978-9888e4e4e30e"
      },
      "execution_count": null,
      "outputs": [
        {
          "output_type": "stream",
          "name": "stderr",
          "text": [
            "[nltk_data] Downloading package stopwords to /root/nltk_data...\n",
            "[nltk_data]   Package stopwords is already up-to-date!\n",
            "[nltk_data] Downloading package punkt to /root/nltk_data...\n",
            "[nltk_data]   Package punkt is already up-to-date!\n",
            "[nltk_data] Downloading package wordnet to /root/nltk_data...\n",
            "[nltk_data]   Package wordnet is already up-to-date!\n",
            "[nltk_data] Downloading package omw-1.4 to /root/nltk_data...\n",
            "[nltk_data]   Package omw-1.4 is already up-to-date!\n"
          ]
        }
      ]
    },
    {
      "cell_type": "markdown",
      "source": [
        "### Step 3"
      ],
      "metadata": {
        "id": "AJFj_7aXcT5Z"
      }
    },
    {
      "cell_type": "code",
      "source": [
        "# Read the data - note the correct path with subdirectory\n",
        "df = pd.read_csv('./SpamEmailClassificationDataset/combined_data.csv')\n",
        "\n",
        "# Display basic info\n",
        "print(f\"Total records in dataset: {len(df)}\")\n",
        "print(f\"Columns: {df.columns.tolist()}\")\n",
        "print(\"\\nFirst 5 rows:\")\n",
        "print(df.head())\n",
        "\n",
        "# Check for null values\n",
        "print(f\"\\nNull values:\\n{df.isnull().sum()}\")"
      ],
      "metadata": {
        "colab": {
          "base_uri": "https://localhost:8080/"
        },
        "id": "epv_X3zYctzL",
        "outputId": "1c381c04-512d-4410-d7ad-9f047a2c4951"
      },
      "execution_count": null,
      "outputs": [
        {
          "output_type": "stream",
          "name": "stdout",
          "text": [
            "Total records in dataset: 14861\n",
            "Columns: ['label', 'text']\n",
            "\n",
            "First 5 rows:\n",
            "   label                                               text\n",
            "0  label                                               text\n",
            "1      1  ounce feather bowl hummingbird opec moment ala...\n",
            "2      1  wulvob get your medircations online qnb ikud v...\n",
            "3      0   computer connection from cnn com wednesday es...\n",
            "4      1  university degree obtain a prosperous future m...\n",
            "\n",
            "Null values:\n",
            "label    0\n",
            "text     0\n",
            "dtype: int64\n"
          ]
        }
      ]
    },
    {
      "cell_type": "markdown",
      "source": [
        "### Step 4"
      ],
      "metadata": {
        "id": "Mn6WVK_ccUrB"
      }
    },
    {
      "cell_type": "code",
      "source": [
        "# Check the current state\n",
        "print(\"Available columns:\", df.columns.tolist())\n",
        "print(\"First few rows of original data:\")\n",
        "print(df.head())\n",
        "print(\"\\nUnique values in label column:\", df['label'].unique())\n",
        "\n",
        "# Fix the label column - remove rows where label is 'label' (header row mixed in data)\n",
        "df = df[df['label'] != 'label']\n",
        "\n",
        "# Convert label to numeric\n",
        "df['label'] = df['label'].astype(int)\n",
        "\n",
        "print(\"\\nAfter cleaning:\")\n",
        "print(f\"Unique values in label column: {df['label'].unique()}\")\n",
        "print(f\"Value counts:\\n{df['label'].value_counts()}\")\n",
        "\n",
        "# Sample 3000 records from each class for balanced dataset\n",
        "n_samples = 3000\n",
        "\n",
        "# Get spam and ham samples\n",
        "spam_samples = df[df['label'] == 1].sample(n=min(n_samples, len(df[df['label'] == 1])), random_state=42)\n",
        "ham_samples = df[df['label'] == 0].sample(n=min(n_samples, len(df[df['label'] == 0])), random_state=42)\n",
        "\n",
        "# Combine and shuffle\n",
        "df_balanced = pd.concat([spam_samples, ham_samples]).sample(frac=1, random_state=42).reset_index(drop=True)\n",
        "\n",
        "# Use the balanced dataset\n",
        "df = df_balanced\n",
        "\n",
        "print(f\"\\nNew dataset size: {len(df)}\")\n",
        "print(f\"Label distribution:\\n{df['label'].value_counts()}\")"
      ],
      "metadata": {
        "colab": {
          "base_uri": "https://localhost:8080/"
        },
        "id": "Zb-6D7nAcvNO",
        "outputId": "e648692d-809c-471e-e9a1-2d2380798d17"
      },
      "execution_count": null,
      "outputs": [
        {
          "output_type": "stream",
          "name": "stdout",
          "text": [
            "Available columns: ['label', 'text']\n",
            "First few rows of original data:\n",
            "   label                                               text\n",
            "0  label                                               text\n",
            "1      1  ounce feather bowl hummingbird opec moment ala...\n",
            "2      1  wulvob get your medircations online qnb ikud v...\n",
            "3      0   computer connection from cnn com wednesday es...\n",
            "4      1  university degree obtain a prosperous future m...\n",
            "\n",
            "Unique values in label column: ['label' '1' '0']\n",
            "\n",
            "After cleaning:\n",
            "Unique values in label column: [1 0]\n",
            "Value counts:\n",
            "label\n",
            "1    7813\n",
            "0    7047\n",
            "Name: count, dtype: int64\n",
            "\n",
            "New dataset size: 6000\n",
            "Label distribution:\n",
            "label\n",
            "1    3000\n",
            "0    3000\n",
            "Name: count, dtype: int64\n"
          ]
        }
      ]
    },
    {
      "cell_type": "markdown",
      "source": [
        "### Step 5"
      ],
      "metadata": {
        "id": "zpn7Xxy4cVcD"
      }
    },
    {
      "cell_type": "code",
      "source": [
        "# Check if we have data to plot\n",
        "if len(df) == 0:\n",
        "    print(\"DataFrame is empty! Please check the data loading step.\")\n",
        "else:\n",
        "    print(f\"Plotting distribution for {len(df)} messages\")\n",
        "\n",
        "    # Create visualizations\n",
        "    fig, (ax1, ax2) = plt.subplots(1, 2, figsize=(12, 5))\n",
        "\n",
        "    # Get value counts\n",
        "    label_counts = df['label'].value_counts().sort_index()\n",
        "\n",
        "    # Histogram\n",
        "    label_counts.plot(kind='bar', ax=ax1, color=['#2ecc71', '#e74c3c'])\n",
        "    ax1.set_title('Distribution of Ham vs Spam Messages', fontsize=14)\n",
        "    ax1.set_xlabel('Message Type')\n",
        "    ax1.set_ylabel('Count')\n",
        "    ax1.set_xticklabels(['Ham (0)', 'Spam (1)'], rotation=0)\n",
        "    ax1.grid(axis='y', alpha=0.3)\n",
        "\n",
        "    # Pie Chart\n",
        "    colors = ['#3498db', '#e74c3c']\n",
        "    label_counts.plot(kind='pie', ax=ax2, colors=colors,\n",
        "                     labels=['Ham', 'Spam'],\n",
        "                     autopct='%1.1f%%',\n",
        "                     startangle=90)\n",
        "    ax2.set_title('Percentage Distribution of Messages', fontsize=14)\n",
        "    ax2.set_ylabel('')\n",
        "\n",
        "    plt.tight_layout()\n",
        "    plt.show()"
      ],
      "metadata": {
        "colab": {
          "base_uri": "https://localhost:8080/",
          "height": 335
        },
        "id": "WBb_OGTccwo5",
        "outputId": "623f203c-5e34-4c93-c7d6-65feccdcd4df"
      },
      "execution_count": null,
      "outputs": [
        {
          "output_type": "stream",
          "name": "stdout",
          "text": [
            "Plotting distribution for 6000 messages\n"
          ]
        },
        {
          "output_type": "display_data",
          "data": {
            "text/plain": [
              "<Figure size 1200x500 with 2 Axes>"
            ],
            "image/png": "[encoded data removed]"
          },
          "metadata": {}
        }
      ]
    },
    {
      "cell_type": "markdown",
      "source": [
        "### Step 6"
      ],
      "metadata": {
        "id": "6dbFFdOqcWO8"
      }
    },
    {
      "cell_type": "code",
      "source": [
        "from nltk.stem import WordNetLemmatizer\n",
        "\n",
        "corpus = []\n",
        "lemmatizer = WordNetLemmatizer()\n",
        "stop_words = set(stopwords.words(\"english\"))\n",
        "\n",
        "for document in df[\"text\"]:\n",
        "    # Remove non-alphabetic characters and convert to lowercase\n",
        "    document = re.sub(\"[^a-zA-Z]\", \" \", document).lower()\n",
        "    # Split into words\n",
        "    document = document.split()\n",
        "    # Lemmatize and remove stop words\n",
        "    document = [lemmatizer.lemmatize(word) for word in document if word not in stop_words]\n",
        "    # Remove duplicates\n",
        "    document = list(set(document))\n",
        "    # Join back to string\n",
        "    document = \" \".join(document)\n",
        "    corpus.append(document)\n",
        "\n",
        "# Update dataframe with processed text\n",
        "df[\"text\"] = corpus\n",
        "\n",
        "print(\"Text preprocessing completed!\")\n",
        "print(f\"\\nExample of processed text:\")\n",
        "print(f\"Original (first 100 chars): {df.iloc[0]['text'][:100]}...\")"
      ],
      "metadata": {
        "colab": {
          "base_uri": "https://localhost:8080/"
        },
        "id": "4bxp1GaAcyGq",
        "outputId": "b262fe44-5423-4e2b-e878-708cfef3eb51"
      },
      "execution_count": null,
      "outputs": [
        {
          "output_type": "stream",
          "name": "stdout",
          "text": [
            "Text preprocessing completed!\n",
            "\n",
            "Example of processed text:\n",
            "Original (first 100 chars): owned deer update unsub alabama inc report easierpowers http speculative wholly code operating varie...\n"
          ]
        }
      ]
    },
    {
      "cell_type": "markdown",
      "source": [
        "### Step 7"
      ],
      "metadata": {
        "id": "Me5V_m2ycX9W"
      }
    },
    {
      "cell_type": "code",
      "source": [
        "# Split data for training and testing (80-20 split)\n",
        "train_size = int(0.8 * len(df))\n",
        "\n",
        "# Shuffle and split\n",
        "df_shuffled = df.sample(frac=1, random_state=42).reset_index(drop=True)\n",
        "train_df = df_shuffled[:train_size]\n",
        "test_df = df_shuffled[train_size:]\n",
        "\n",
        "# Prepare train_spam and train_ham lists\n",
        "train_spam = train_df[train_df['label'] == 1]['text'].tolist()\n",
        "train_ham = train_df[train_df['label'] == 0]['text'].tolist()\n",
        "\n",
        "# Prepare test_emails dictionary\n",
        "test_emails = {\n",
        "    'spam': test_df[test_df['label'] == 1]['text'].tolist(),\n",
        "    'ham': test_df[test_df['label'] == 0]['text'].tolist()\n",
        "}\n",
        "\n",
        "print(f\"Training data:\")\n",
        "print(f\"  Spam messages: {len(train_spam)}\")\n",
        "print(f\"  Ham messages: {len(train_ham)}\")\n",
        "print(f\"\\nTest data:\")\n",
        "print(f\"  Spam messages: {len(test_emails['spam'])}\")\n",
        "print(f\"  Ham messages: {len(test_emails['ham'])}\")"
      ],
      "metadata": {
        "colab": {
          "base_uri": "https://localhost:8080/"
        },
        "id": "nxKZMDVIcznx",
        "outputId": "0ead55f9-fa31-41cc-8cd1-bc027e95ac2b"
      },
      "execution_count": null,
      "outputs": [
        {
          "output_type": "stream",
          "name": "stdout",
          "text": [
            "Training data:\n",
            "  Spam messages: 2395\n",
            "  Ham messages: 2405\n",
            "\n",
            "Test data:\n",
            "  Spam messages: 605\n",
            "  Ham messages: 595\n"
          ]
        }
      ]
    },
    {
      "cell_type": "markdown",
      "source": [
        "### Step 8"
      ],
      "metadata": {
        "id": "Ga3kRYwMcYtA"
      }
    },
    {
      "cell_type": "code",
      "source": [
        "# Build vocabulary for spam messages\n",
        "vocab_words_spam = []\n",
        "for sentence in train_spam:\n",
        "    sentence_as_list = sentence.split()\n",
        "    for word in sentence_as_list:\n",
        "        vocab_words_spam.append(word)\n",
        "\n",
        "vocab_unique_words_spam = list(set(vocab_words_spam))\n",
        "print(f\"Unique words in spam: {len(vocab_unique_words_spam)}\")\n",
        "\n",
        "# Calculate spamicity for each word\n",
        "dict_spamicity = {}\n",
        "for w in vocab_unique_words_spam:\n",
        "    emails_with_w = 0\n",
        "    for sentence in train_spam:\n",
        "        if w in sentence:\n",
        "            emails_with_w += 1\n",
        "\n",
        "    total_spam = len(train_spam)\n",
        "    spamicity = (emails_with_w + 1) / (total_spam + 2)  # Laplace smoothing\n",
        "    dict_spamicity[w.lower()] = spamicity\n",
        "\n",
        "# Build vocabulary for ham messages\n",
        "vocab_words_ham = []\n",
        "for sentence in train_ham:\n",
        "    sentence_as_list = sentence.split()\n",
        "    for word in sentence_as_list:\n",
        "        vocab_words_ham.append(word)\n",
        "\n",
        "vocab_unique_words_ham = list(set(vocab_words_ham))\n",
        "print(f\"Unique words in ham: {len(vocab_unique_words_ham)}\")\n",
        "\n",
        "# Calculate hamicity for each word\n",
        "dict_hamicity = {}\n",
        "for w in vocab_unique_words_ham:\n",
        "    emails_with_w = 0\n",
        "    for sentence in train_ham:\n",
        "        if w in sentence:\n",
        "            emails_with_w += 1\n",
        "\n",
        "    total_ham = len(train_ham)\n",
        "    hamicity = (emails_with_w + 1) / (total_ham + 2)  # Laplace smoothing\n",
        "    dict_hamicity[w.lower()] = hamicity\n",
        "\n",
        "# Calculate prior probabilities\n",
        "prob_spam = len(train_spam) / (len(train_spam) + len(train_ham))\n",
        "prob_ham = len(train_ham) / (len(train_spam) + len(train_ham))\n",
        "\n",
        "print(f\"\\nPrior probabilities:\")\n",
        "print(f\"P(Spam) = {prob_spam:.4f}\")\n",
        "print(f\"P(Ham) = {prob_ham:.4f}\")"
      ],
      "metadata": {
        "colab": {
          "base_uri": "https://localhost:8080/"
        },
        "id": "dpTMgAR2c1C1",
        "outputId": "dbdd3c8e-2e0f-4da9-a4ee-902e6bdabef3"
      },
      "execution_count": null,
      "outputs": [
        {
          "output_type": "stream",
          "name": "stdout",
          "text": [
            "Unique words in spam: 35169\n",
            "Unique words in ham: 30373\n",
            "\n",
            "Prior probabilities:\n",
            "P(Spam) = 0.4990\n",
            "P(Ham) = 0.5010\n"
          ]
        }
      ]
    },
    {
      "cell_type": "markdown",
      "source": [
        "### Step 9"
      ],
      "metadata": {
        "id": "Fvk3QJtNccss"
      }
    },
    {
      "cell_type": "code",
      "source": [
        "def mult(list_):\n",
        "    \"\"\"Multiply all probabilities together\"\"\"\n",
        "    total_prob = 1\n",
        "    for i in list_:\n",
        "        total_prob = total_prob * i\n",
        "    return total_prob\n",
        "\n",
        "def Bayes(email):\n",
        "    \"\"\"Classify email using Naive Bayes\"\"\"\n",
        "    probs_s = []\n",
        "    probs_h = []\n",
        "\n",
        "    # Split email into words\n",
        "    words = email.split()\n",
        "\n",
        "    for word in words:\n",
        "        # Get spam probability for word\n",
        "        try:\n",
        "            pr_WS = dict_spamicity[word.lower()]\n",
        "        except KeyError:\n",
        "            pr_WS = 1 / (len(train_spam) + 2)  # Smoothing for unknown words\n",
        "\n",
        "        # Get ham probability for word\n",
        "        try:\n",
        "            pr_WH = dict_hamicity[word.lower()]\n",
        "        except KeyError:\n",
        "            pr_WH = 1 / (len(train_ham) + 2)  # Smoothing for unknown words\n",
        "\n",
        "        probs_s.append(pr_WS)\n",
        "        probs_h.append(pr_WH)\n",
        "\n",
        "    # Calculate final probability using Bayes formula\n",
        "    numerator = prob_spam * mult(probs_s)\n",
        "    denominator = (prob_spam * mult(probs_s)) + (prob_ham * mult(probs_h))\n",
        "\n",
        "    if denominator == 0:\n",
        "        final_classification = 0.5\n",
        "    else:\n",
        "        final_classification = numerator / denominator\n",
        "\n",
        "    return final_classification\n",
        "\n",
        "# Test classifier on sample messages\n",
        "print(\"Testing classifier on sample messages:\")\n",
        "print(\"-\" * 50)\n",
        "\n",
        "# Test on first 5 spam messages\n",
        "correct_spam = 0\n",
        "for i, email in enumerate(test_emails['spam'][:5]):\n",
        "    spam_prob = Bayes(email)\n",
        "    prediction = \"SPAM\" if spam_prob >= 0.5 else \"HAM\"\n",
        "    if spam_prob >= 0.5:\n",
        "        correct_spam += 1\n",
        "    print(f\"Test spam {i+1}: {spam_prob:.4f} - Predicted: {prediction}\")\n",
        "\n",
        "print(\"\\n\")\n",
        "\n",
        "# Test on first 5 ham messages\n",
        "correct_ham = 0\n",
        "for i, email in enumerate(test_emails['ham'][:5]):\n",
        "    spam_prob = Bayes(email)\n",
        "    prediction = \"SPAM\" if spam_prob >= 0.5 else \"HAM\"\n",
        "    if spam_prob < 0.5:\n",
        "        correct_ham += 1\n",
        "    print(f\"Test ham {i+1}: {spam_prob:.4f} - Predicted: {prediction}\")"
      ],
      "metadata": {
        "colab": {
          "base_uri": "https://localhost:8080/"
        },
        "id": "Iiczy1Efc2q4",
        "outputId": "28e757dd-1e52-45dc-af01-6df1c109c07b"
      },
      "execution_count": null,
      "outputs": [
        {
          "output_type": "stream",
          "name": "stdout",
          "text": [
            "Testing classifier on sample messages:\n",
            "--------------------------------------------------\n",
            "Test spam 1: 0.0744 - Predicted: HAM\n",
            "Test spam 2: 1.0000 - Predicted: SPAM\n",
            "Test spam 3: 1.0000 - Predicted: SPAM\n",
            "Test spam 4: 0.8946 - Predicted: SPAM\n",
            "Test spam 5: 1.0000 - Predicted: SPAM\n",
            "\n",
            "\n",
            "Test ham 1: 0.0000 - Predicted: HAM\n",
            "Test ham 2: 0.0000 - Predicted: HAM\n",
            "Test ham 3: 0.0000 - Predicted: HAM\n",
            "Test ham 4: 0.0000 - Predicted: HAM\n",
            "Test ham 5: 0.0000 - Predicted: HAM\n"
          ]
        }
      ]
    },
    {
      "cell_type": "markdown",
      "source": [
        "### Step 10"
      ],
      "metadata": {
        "id": "al7TnKWScdjC"
      }
    },
    {
      "cell_type": "code",
      "source": [
        "# Evaluate on larger test set\n",
        "def evaluate_classifier(test_messages, true_label):\n",
        "    \"\"\"Evaluate classifier accuracy\"\"\"\n",
        "    correct = 0\n",
        "    total = min(100, len(test_messages))  # Test on up to 100 messages\n",
        "\n",
        "    for message in test_messages[:total]:\n",
        "        spam_prob = Bayes(message)\n",
        "        predicted_label = 1 if spam_prob >= 0.5 else 0\n",
        "        if predicted_label == true_label:\n",
        "            correct += 1\n",
        "\n",
        "    accuracy = correct / total if total > 0 else 0\n",
        "    return accuracy, total\n",
        "\n",
        "# Evaluate spam detection\n",
        "spam_accuracy, spam_tested = evaluate_classifier(test_emails['spam'], 1)\n",
        "print(f\"Spam detection accuracy: {spam_accuracy:.2%} (tested on {spam_tested} messages)\")\n",
        "\n",
        "# Evaluate ham detection\n",
        "ham_accuracy, ham_tested = evaluate_classifier(test_emails['ham'], 0)\n",
        "print(f\"Ham detection accuracy: {ham_accuracy:.2%} (tested on {ham_tested} messages)\")\n",
        "\n",
        "# Overall accuracy\n",
        "overall_accuracy = (spam_accuracy + ham_accuracy) / 2\n",
        "print(f\"\\nOverall accuracy: {overall_accuracy:.2%}\")"
      ],
      "metadata": {
        "colab": {
          "base_uri": "https://localhost:8080/"
        },
        "id": "aZ5-sDvuc4QJ",
        "outputId": "ab5843dc-0dda-43d9-c42a-ca436ef93748"
      },
      "execution_count": null,
      "outputs": [
        {
          "output_type": "stream",
          "name": "stdout",
          "text": [
            "Spam detection accuracy: 88.00% (tested on 100 messages)\n",
            "Ham detection accuracy: 89.00% (tested on 100 messages)\n",
            "\n",
            "Overall accuracy: 88.50%\n"
          ]
        }
      ]
    },
    {
      "cell_type": "markdown",
      "source": [
        "### Step 11"
      ],
      "metadata": {
        "id": "CUbFC2RYfDO-"
      }
    },
    {
      "cell_type": "code",
      "source": [
        "# Find words with highest spam probability\n",
        "spam_indicator_words = []\n",
        "\n",
        "for word in dict_spamicity:\n",
        "    if word in dict_hamicity:\n",
        "        # Calculate spam likelihood ratio\n",
        "        spam_ratio = dict_spamicity[word] / (dict_spamicity[word] + dict_hamicity[word])\n",
        "        spam_indicator_words.append((word, spam_ratio, dict_spamicity[word]))\n",
        "\n",
        "# Sort by spam ratio\n",
        "spam_indicator_words.sort(key=lambda x: x[1], reverse=True)\n",
        "\n",
        "print(\"Top 20 words most likely to appear in SPAM:\")\n",
        "print(\"-\" * 60)\n",
        "print(f\"{'Word':<20} {'Spam Ratio':<15} {'P(word|spam)':<15}\")\n",
        "print(\"-\" * 60)\n",
        "\n",
        "for word, ratio, prob in spam_indicator_words[:20]:\n",
        "    print(f\"{word:<20} {ratio:<15.4f} {prob:<15.4f}\")\n",
        "\n",
        "# Find words indicating ham\n",
        "ham_indicator_words = sorted(spam_indicator_words, key=lambda x: x[1])\n",
        "\n",
        "print(\"\\n\\nTop 20 words most likely to appear in HAM:\")\n",
        "print(\"-\" * 60)\n",
        "print(f\"{'Word':<20} {'Ham Ratio':<15} {'P(word|ham)':<15}\")\n",
        "print(\"-\" * 60)\n",
        "\n",
        "for word, ratio, _ in ham_indicator_words[:20]:\n",
        "    ham_ratio = 1 - ratio\n",
        "    ham_prob = dict_hamicity.get(word, 0)\n",
        "    print(f\"{word:<20} {ham_ratio:<15.4f} {ham_prob:<15.4f}\")"
      ],
      "metadata": {
        "colab": {
          "base_uri": "https://localhost:8080/"
        },
        "id": "IqVJfETyfCnb",
        "outputId": "332eea45-425b-41e2-bf43-fd130305337b"
      },
      "execution_count": null,
      "outputs": [
        {
          "output_type": "stream",
          "name": "stdout",
          "text": [
            "Top 20 words most likely to appear in SPAM:\n",
            "------------------------------------------------------------\n",
            "Word                 Spam Ratio      P(word|spam)   \n",
            "------------------------------------------------------------\n",
            "pharmacy             0.9904          0.0859         \n",
            "photoshop            0.9795          0.0396         \n",
            "illustrator          0.9727          0.0296         \n",
            "premiere             0.9612          0.0309         \n",
            "adobe                0.9606          0.0405         \n",
            "spescapenumber       0.9596          0.0296         \n",
            "acrobat              0.9593          0.0392         \n",
            "shipping             0.9573          0.0559         \n",
            "hurry                0.9537          0.0171         \n",
            "medication           0.9526          0.0584         \n",
            "erect                0.9485          0.0229         \n",
            "cried                0.9462          0.0146         \n",
            "twenty               0.9462          0.0146         \n",
            "opec                 0.9462          0.0146         \n",
            "hottest              0.9423          0.0271         \n",
            "hk                   0.9388          0.1210         \n",
            "satisfied            0.9387          0.0254         \n",
            "depression           0.9377          0.0125         \n",
            "borland              0.9377          0.0125         \n",
            "pill                 0.9361          0.0730         \n",
            "\n",
            "\n",
            "Top 20 words most likely to appear in HAM:\n",
            "------------------------------------------------------------\n",
            "Word                 Ham Ratio       P(word|ham)    \n",
            "------------------------------------------------------------\n",
            "posting              0.9903          0.1712         \n",
            "commented            0.9902          0.1683         \n",
            "minimal              0.9879          0.1699         \n",
            "samba                0.9866          0.0922         \n",
            "louise               0.9825          0.0469         \n",
            "debian               0.9766          0.0523         \n",
            "andrew               0.9749          0.0324         \n",
            "variance             0.9732          0.0303         \n",
            "escapenumberpm       0.9713          0.0283         \n",
            "forwarded            0.9708          0.0831         \n",
            "warner               0.9696          0.0266         \n",
            "gnupg                0.9691          0.0262         \n",
            "matrix               0.9673          0.0370         \n",
            "detected             0.9665          0.0241         \n",
            "hash                 0.9665          0.0361         \n",
            "ancillary            0.9641          0.0224         \n",
            "wrote                0.9640          0.2343         \n",
            "node                 0.9614          0.0208         \n",
            "modified             0.9605          0.0710         \n",
            "beginner             0.9605          0.0507         \n"
          ]
        }
      ]
    },
    {
      "cell_type": "markdown",
      "source": [
        "### Step 12"
      ],
      "metadata": {
        "id": "9x23Sj9DfF8L"
      }
    },
    {
      "cell_type": "code",
      "source": [
        "# Visualize top spam and ham indicator words\n",
        "fig, axes = plt.subplots(1, 2, figsize=(14, 6))\n",
        "\n",
        "# Top spam words\n",
        "top_spam = spam_indicator_words[:10]\n",
        "words = [w for w, _, _ in top_spam]\n",
        "ratios = [r for _, r, _ in top_spam]\n",
        "\n",
        "axes[0].barh(range(len(words)), ratios, color='red', alpha=0.7)\n",
        "axes[0].set_yticks(range(len(words)))\n",
        "axes[0].set_yticklabels(words)\n",
        "axes[0].set_xlabel('Spam Probability Ratio')\n",
        "axes[0].set_title('Top 10 Spam Indicator Words')\n",
        "axes[0].set_xlim([0, 1])\n",
        "axes[0].grid(axis='x', alpha=0.3)\n",
        "\n",
        "# Top ham words\n",
        "top_ham = ham_indicator_words[:10]\n",
        "words = [w for w, _, _ in top_ham]\n",
        "ratios = [1-r for _, r, _ in top_ham]\n",
        "\n",
        "axes[1].barh(range(len(words)), ratios, color='green', alpha=0.7)\n",
        "axes[1].set_yticks(range(len(words)))\n",
        "axes[1].set_yticklabels(words)\n",
        "axes[1].set_xlabel('Ham Probability Ratio')\n",
        "axes[1].set_title('Top 10 Ham Indicator Words')\n",
        "axes[1].set_xlim([0, 1])\n",
        "axes[1].grid(axis='x', alpha=0.3)\n",
        "\n",
        "plt.tight_layout()\n",
        "plt.show()"
      ],
      "metadata": {
        "colab": {
          "base_uri": "https://localhost:8080/",
          "height": 312
        },
        "id": "cAhOX5gFfLGI",
        "outputId": "19a3984b-c88b-40a0-c433-f8c8984e770a"
      },
      "execution_count": null,
      "outputs": [
        {
          "output_type": "display_data",
          "data": {
            "text/plain": [
              "<Figure size 1400x600 with 2 Axes>"
            ],
            "image/png": "[encoded data removed]"
          },
          "metadata": {}
        }
      ]
    },
    {
      "cell_type": "markdown",
      "source": [
        "### Step 13"
      ],
      "metadata": {
        "id": "oQzfd22YfG7d"
      }
    },
    {
      "cell_type": "code",
      "source": [
        "print(\"=\"*60)\n",
        "print(\"NAIVE BAYES SPAM CLASSIFIER - FINAL ANALYSIS\")\n",
        "print(\"=\"*60)\n",
        "\n",
        "print(f\"\\n1. Dataset Statistics:\")\n",
        "print(f\"   - Total messages: {len(df)}\")\n",
        "print(f\"   - Training messages: {len(train_spam) + len(train_ham)}\")\n",
        "print(f\"   - Test messages: {len(test_emails['spam']) + len(test_emails['ham'])}\")\n",
        "\n",
        "print(f\"\\n2. Vocabulary Analysis:\")\n",
        "print(f\"   - Unique words in spam vocabulary: {len(vocab_unique_words_spam)}\")\n",
        "print(f\"   - Unique words in ham vocabulary: {len(vocab_unique_words_ham)}\")\n",
        "print(f\"   - Total unique words: {len(set(vocab_unique_words_spam + vocab_unique_words_ham))}\")\n",
        "\n",
        "print(f\"\\n3. Model Performance:\")\n",
        "print(f\"   - Spam detection accuracy: {spam_accuracy:.2%}\")\n",
        "print(f\"   - Ham detection accuracy: {ham_accuracy:.2%}\")\n",
        "print(f\"   - Overall accuracy: {overall_accuracy:.2%}\")\n",
        "\n",
        "print(f\"\\n4. Key Findings:\")\n",
        "print(f\"   - Prior probability P(Spam): {prob_spam:.4f}\")\n",
        "print(f\"   - Prior probability P(Ham): {prob_ham:.4f}\")\n",
        "print(f\"   - Most indicative spam word: '{spam_indicator_words[0][0]}' with ratio {spam_indicator_words[0][1]:.4f}\")\n",
        "print(f\"   - Most indicative ham word: '{ham_indicator_words[0][0]}' with ratio {1-ham_indicator_words[0][1]:.4f}\")"
      ],
      "metadata": {
        "colab": {
          "base_uri": "https://localhost:8080/"
        },
        "id": "CIL7nVdqfM22",
        "outputId": "2b9f16a1-af59-4b7c-9de3-a4c1076a3d54"
      },
      "execution_count": null,
      "outputs": [
        {
          "output_type": "stream",
          "name": "stdout",
          "text": [
            "============================================================\n",
            "NAIVE BAYES SPAM CLASSIFIER - FINAL ANALYSIS\n",
            "============================================================\n",
            "\n",
            "1. Dataset Statistics:\n",
            "   - Total messages: 6000\n",
            "   - Training messages: 4800\n",
            "   - Test messages: 1200\n",
            "\n",
            "2. Vocabulary Analysis:\n",
            "   - Unique words in spam vocabulary: 35169\n",
            "   - Unique words in ham vocabulary: 30373\n",
            "   - Total unique words: 53581\n",
            "\n",
            "3. Model Performance:\n",
            "   - Spam detection accuracy: 88.00%\n",
            "   - Ham detection accuracy: 89.00%\n",
            "   - Overall accuracy: 88.50%\n",
            "\n",
            "4. Key Findings:\n",
            "   - Prior probability P(Spam): 0.4990\n",
            "   - Prior probability P(Ham): 0.5010\n",
            "   - Most indicative spam word: 'pharmacy' with ratio 0.9904\n",
            "   - Most indicative ham word: 'posting' with ratio 0.9903\n"
          ]
        }
      ]
    }
  ]
}