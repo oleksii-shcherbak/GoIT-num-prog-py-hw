{
  "nbformat": 4,
  "nbformat_minor": 0,
  "metadata": {
    "colab": {
      "provenance": [],
      "authorship_tag": "ABX9TyO6iu5wdkmie6UMubg3dLlo",
      "include_colab_link": true
    },
    "kernelspec": {
      "name": "python3",
      "display_name": "Python 3"
    },
    "language_info": {
      "name": "python"
    }
  },
  "cells": [
    {
      "cell_type": "markdown",
      "metadata": {
        "id": "view-in-github",
        "colab_type": "text"
      },
      "source": [
        "<a href=\"https://colab.research.google.com/github/oleksii-shcherbak/GoIT-num-prog-py-hw/blob/main/hw_08.ipynb\" target=\"_parent\"><img src=\"https://colab.research.google.com/assets/colab-badge.svg\" alt=\"Open In Colab\"/></a>"
      ]
    },
    {
      "cell_type": "markdown",
      "source": [
        "### Step 1"
      ],
      "metadata": {
        "id": "cf1tA7ewgSVQ"
      }
    },
    {
      "cell_type": "code",
      "source": [
        "import numpy as np\n",
        "import pandas as pd\n",
        "from sklearn.datasets import load_iris\n",
        "from sklearn.model_selection import train_test_split\n",
        "from sklearn.discriminant_analysis import QuadraticDiscriminantAnalysis\n",
        "from sklearn.metrics import accuracy_score, classification_report\n",
        "import matplotlib.pyplot as plt\n",
        "import seaborn as sns\n",
        "\n",
        "# Load the Iris dataset\n",
        "iris = load_iris()\n",
        "X = iris.data\n",
        "y = iris.target\n",
        "feature_names = iris.feature_names\n",
        "target_names = iris.target_names\n",
        "\n",
        "print(\"Dataset shape:\", X.shape)\n",
        "print(\"Number of classes:\", len(np.unique(y)))\n",
        "print(\"Feature names:\", feature_names)\n",
        "print(\"Target names:\", target_names)"
      ],
      "metadata": {
        "colab": {
          "base_uri": "https://localhost:8080/"
        },
        "id": "5XVlBGU1gdkA",
        "outputId": "663065ff-2eca-4439-bde4-d0774d54e371"
      },
      "execution_count": 1,
      "outputs": [
        {
          "output_type": "stream",
          "name": "stdout",
          "text": [
            "Dataset shape: (150, 4)\n",
            "Number of classes: 3\n",
            "Feature names: ['sepal length (cm)', 'sepal width (cm)', 'petal length (cm)', 'petal width (cm)']\n",
            "Target names: ['setosa' 'versicolor' 'virginica']\n"
          ]
        }
      ]
    },
    {
      "cell_type": "markdown",
      "source": [
        "### Step 2"
      ],
      "metadata": {
        "id": "mdLuhNlFgTux"
      }
    },
    {
      "cell_type": "code",
      "source": [
        "# Split the data into training and testing sets (80% train, 20% test)\n",
        "X_train, X_test, y_train, y_test = train_test_split(X, y, test_size=0.2, random_state=42, stratify=y)\n",
        "\n",
        "print(\"Training set shape:\", X_train.shape)\n",
        "print(\"Testing set shape:\", X_test.shape)\n",
        "print(\"Training labels distribution:\", np.bincount(y_train))\n",
        "print(\"Testing labels distribution:\", np.bincount(y_test))"
      ],
      "metadata": {
        "colab": {
          "base_uri": "https://localhost:8080/"
        },
        "id": "dgTBpgEkgfV-",
        "outputId": "af85f6b0-2201-4039-b403-a9e730669098"
      },
      "execution_count": 2,
      "outputs": [
        {
          "output_type": "stream",
          "name": "stdout",
          "text": [
            "Training set shape: (120, 4)\n",
            "Testing set shape: (30, 4)\n",
            "Training labels distribution: [40 40 40]\n",
            "Testing labels distribution: [10 10 10]\n"
          ]
        }
      ]
    },
    {
      "cell_type": "markdown",
      "source": [
        "### Step 3"
      ],
      "metadata": {
        "id": "AnO9R5wrgUv4"
      }
    },
    {
      "cell_type": "code",
      "source": [
        "# Separate features for each class\n",
        "classes = np.unique(y_train)\n",
        "class_data = {}\n",
        "\n",
        "for class_label in classes:\n",
        "    class_data[class_label] = X_train[y_train == class_label]\n",
        "    print(f\"Class {class_label} ({target_names[class_label]}): {class_data[class_label].shape[0]} samples\")"
      ],
      "metadata": {
        "colab": {
          "base_uri": "https://localhost:8080/"
        },
        "id": "6LR5dBjjghND",
        "outputId": "3f84c4f3-8dc4-4b5b-fe4a-7fa10d1eb0da"
      },
      "execution_count": 3,
      "outputs": [
        {
          "output_type": "stream",
          "name": "stdout",
          "text": [
            "Class 0 (setosa): 40 samples\n",
            "Class 1 (versicolor): 40 samples\n",
            "Class 2 (virginica): 40 samples\n"
          ]
        }
      ]
    },
    {
      "cell_type": "markdown",
      "source": [
        "### Step 4"
      ],
      "metadata": {
        "id": "a8WF2TeNgVkE"
      }
    },
    {
      "cell_type": "code",
      "source": [
        "# Calculate covariance matrices for each class\n",
        "covariance_matrices = {}\n",
        "\n",
        "for class_label in classes:\n",
        "    cov_matrix = np.cov(class_data[class_label].T)\n",
        "    covariance_matrices[class_label] = cov_matrix\n",
        "    print(f\"\\nCovariance matrix for class {class_label} ({target_names[class_label]}):\")\n",
        "    print(cov_matrix)"
      ],
      "metadata": {
        "colab": {
          "base_uri": "https://localhost:8080/"
        },
        "id": "p5g4xX6Ngi8R",
        "outputId": "37d2b098-6e44-4c59-df03-3b088bfa3812"
      },
      "execution_count": 4,
      "outputs": [
        {
          "output_type": "stream",
          "name": "stdout",
          "text": [
            "\n",
            "Covariance matrix for class 0 (setosa):\n",
            "[[0.09515385 0.09535897 0.00965385 0.01238462]\n",
            " [0.09535897 0.15925641 0.01547436 0.01146154]\n",
            " [0.00965385 0.01547436 0.02589103 0.00614103]\n",
            " [0.01238462 0.01146154 0.00614103 0.01330769]]\n",
            "\n",
            "Covariance matrix for class 1 (versicolor):\n",
            "[[0.22728205 0.06538462 0.14992308 0.04092308]\n",
            " [0.06538462 0.09538462 0.06269231 0.03358974]\n",
            " [0.14992308 0.06269231 0.19640385 0.06046154]\n",
            " [0.04092308 0.03358974 0.06046154 0.03497436]]\n",
            "\n",
            "Covariance matrix for class 2 (virginica):\n",
            "[[0.46912821 0.11302564 0.35123077 0.04882051]\n",
            " [0.11302564 0.12523077 0.09394872 0.05235897]\n",
            " [0.35123077 0.09394872 0.33189744 0.05876923]\n",
            " [0.04882051 0.05235897 0.05876923 0.07220513]]\n"
          ]
        }
      ]
    },
    {
      "cell_type": "markdown",
      "source": [
        "### Step 5"
      ],
      "metadata": {
        "id": "NsV4qd85gWZO"
      }
    },
    {
      "cell_type": "code",
      "source": [
        "# Calculate inverse covariance matrices\n",
        "inverse_covariance_matrices = {}\n",
        "\n",
        "for class_label in classes:\n",
        "    inv_cov_matrix = np.linalg.inv(covariance_matrices[class_label])\n",
        "    inverse_covariance_matrices[class_label] = inv_cov_matrix\n",
        "    print(f\"\\nInverse covariance matrix for class {class_label} ({target_names[class_label]}):\")\n",
        "    print(inv_cov_matrix)"
      ],
      "metadata": {
        "colab": {
          "base_uri": "https://localhost:8080/"
        },
        "id": "nlOg_VD6gkj1",
        "outputId": "543793be-1d2c-461b-958a-aab7ce9effb5"
      },
      "execution_count": 5,
      "outputs": [
        {
          "output_type": "stream",
          "name": "stdout",
          "text": [
            "\n",
            "Inverse covariance matrix for class 0 (setosa):\n",
            "[[ 28.19923241 -16.1451288    2.31475455 -13.40605086]\n",
            " [-16.1451288   16.14569153  -4.3741705    3.13793243]\n",
            " [  2.31475455  -4.3741705   44.9072963  -19.10996088]\n",
            " [-13.40605086   3.13793243 -19.10996088  93.73661349]]\n",
            "\n",
            "Inverse covariance matrix for class 1 (versicolor):\n",
            "[[  9.67075138  -3.39775104  -8.16263112   6.05866484]\n",
            " [ -3.39775104  17.09406875   2.06762081 -16.01603319]\n",
            " [ -8.16263112   2.06762081  17.81354304 -23.22973496]\n",
            " [  6.05866484 -16.01603319 -23.22973496  77.0433207 ]]\n",
            "\n",
            "Inverse covariance matrix for class 2 (virginica):\n",
            "[[ 11.27290902  -3.08383247 -11.8042102    4.22188101]\n",
            " [ -3.08383247  13.66629348   0.91201364  -8.56721929]\n",
            " [-11.8042102    0.91201364  16.29961617  -5.94667468]\n",
            " [  4.22188101  -8.56721929  -5.94667468  22.04743562]]\n"
          ]
        }
      ]
    },
    {
      "cell_type": "markdown",
      "source": [
        "### Step 6"
      ],
      "metadata": {
        "id": "hGaWYRE6gXLq"
      }
    },
    {
      "cell_type": "code",
      "source": [
        "# Calculate prior probabilities for each class\n",
        "prior_probabilities = {}\n",
        "\n",
        "for class_label in classes:\n",
        "    prior_prob = np.sum(y_train == class_label) / len(y_train)\n",
        "    prior_probabilities[class_label] = prior_prob\n",
        "    print(f\"Prior probability for class {class_label} ({target_names[class_label]}): {prior_prob:.4f}\")"
      ],
      "metadata": {
        "colab": {
          "base_uri": "https://localhost:8080/"
        },
        "id": "natMf4t1gmWS",
        "outputId": "f662b946-6667-4e67-aff0-ffb71749e139"
      },
      "execution_count": 6,
      "outputs": [
        {
          "output_type": "stream",
          "name": "stdout",
          "text": [
            "Prior probability for class 0 (setosa): 0.3333\n",
            "Prior probability for class 1 (versicolor): 0.3333\n",
            "Prior probability for class 2 (virginica): 0.3333\n"
          ]
        }
      ]
    },
    {
      "cell_type": "markdown",
      "source": [
        "### Step 7"
      ],
      "metadata": {
        "id": "oqWRDcbdgX-o"
      }
    },
    {
      "cell_type": "code",
      "source": [
        "def discriminant_function_single(x, class_label, mean_vector, inv_cov_matrix, cov_matrix, prior_prob):\n",
        "    \"\"\"\n",
        "    Calculate discriminant function value for a single sample\n",
        "\n",
        "    Parameters:\n",
        "    x: feature vector (1D array)\n",
        "    class_label: class label\n",
        "    mean_vector: mean vector for the class\n",
        "    inv_cov_matrix: inverse covariance matrix for the class\n",
        "    cov_matrix: covariance matrix for the class\n",
        "    prior_prob: prior probability for the class\n",
        "\n",
        "    Returns:\n",
        "    discriminant function value\n",
        "    \"\"\"\n",
        "    # Calculate the difference between x and mean\n",
        "    diff = x - mean_vector\n",
        "\n",
        "    # Calculate the quadratic term: (x - μ)^T * Σ^(-1) * (x - μ)\n",
        "    quadratic_term = np.dot(np.dot(diff.T, inv_cov_matrix), diff)\n",
        "\n",
        "    # Calculate the determinant term\n",
        "    det_term = np.log(np.linalg.det(cov_matrix))\n",
        "\n",
        "    # Calculate the prior term\n",
        "    prior_term = np.log(prior_prob)\n",
        "\n",
        "    # Calculate discriminant function\n",
        "    discriminant_value = -0.5 * quadratic_term - 0.5 * det_term + prior_term\n",
        "\n",
        "    return discriminant_value\n",
        "\n",
        "# Test the function with a single sample\n",
        "sample_index = 0\n",
        "test_sample = X_test[sample_index]\n",
        "print(f\"Testing discriminant function with sample {sample_index}:\")\n",
        "print(f\"Sample features: {test_sample}\")\n",
        "\n",
        "# Calculate mean vectors for each class\n",
        "mean_vectors = {}\n",
        "for class_label in classes:\n",
        "    mean_vectors[class_label] = np.mean(class_data[class_label], axis=0)\n",
        "\n",
        "for class_label in classes:\n",
        "    disc_value = discriminant_function_single(\n",
        "        test_sample,\n",
        "        class_label,\n",
        "        mean_vectors[class_label],\n",
        "        inverse_covariance_matrices[class_label],\n",
        "        covariance_matrices[class_label],\n",
        "        prior_probabilities[class_label]\n",
        "    )\n",
        "    print(f\"Discriminant value for class {class_label} ({target_names[class_label]}): {disc_value:.4f}\")"
      ],
      "metadata": {
        "colab": {
          "base_uri": "https://localhost:8080/"
        },
        "id": "cyPM4nL0gn_k",
        "outputId": "3e2781bc-0e62-4d7c-c8f3-6a717e2aea71"
      },
      "execution_count": 7,
      "outputs": [
        {
          "output_type": "stream",
          "name": "stdout",
          "text": [
            "Testing discriminant function with sample 0:\n",
            "Sample features: [4.4 3.  1.3 0.2]\n",
            "Discriminant value for class 0 (setosa): 3.0645\n",
            "Discriminant value for class 1 (versicolor): -34.4789\n",
            "Discriminant value for class 2 (virginica): -69.8699\n"
          ]
        }
      ]
    },
    {
      "cell_type": "markdown",
      "source": [
        "### Step 8"
      ],
      "metadata": {
        "id": "9eOIqYjNgYus"
      }
    },
    {
      "cell_type": "code",
      "source": [
        "def quadratic_discriminant_analysis(X_test, mean_vectors, inv_cov_matrices, cov_matrices, prior_probs, classes):\n",
        "    \"\"\"\n",
        "    Perform Quadratic Discriminant Analysis on test data\n",
        "\n",
        "    Parameters:\n",
        "    X_test: test feature matrix\n",
        "    mean_vectors: dictionary of mean vectors for each class\n",
        "    inv_cov_matrices: dictionary of inverse covariance matrices\n",
        "    cov_matrices: dictionary of covariance matrices\n",
        "    prior_probs: dictionary of prior probabilities\n",
        "    classes: array of class labels\n",
        "\n",
        "    Returns:\n",
        "    discriminant_values: matrix of discriminant values\n",
        "    probabilities: matrix of probabilities\n",
        "    predictions: array of predicted class labels\n",
        "    \"\"\"\n",
        "    n_samples = X_test.shape[0]\n",
        "    n_classes = len(classes)\n",
        "\n",
        "    # Initialize matrices\n",
        "    discriminant_values = np.zeros((n_samples, n_classes))\n",
        "\n",
        "    # Calculate discriminant values for each sample and each class\n",
        "    for i, sample in enumerate(X_test):\n",
        "        for j, class_label in enumerate(classes):\n",
        "            disc_value = discriminant_function_single(\n",
        "                sample,\n",
        "                class_label,\n",
        "                mean_vectors[class_label],\n",
        "                inv_cov_matrices[class_label],\n",
        "                cov_matrices[class_label],\n",
        "                prior_probs[class_label]\n",
        "            )\n",
        "            discriminant_values[i, j] = disc_value\n",
        "\n",
        "    # Calculate probabilities using softmax\n",
        "    # Subtract max for numerical stability\n",
        "    discriminant_values_stable = discriminant_values - np.max(discriminant_values, axis=1, keepdims=True)\n",
        "    exp_values = np.exp(discriminant_values_stable)\n",
        "    probabilities = exp_values / np.sum(exp_values, axis=1, keepdims=True)\n",
        "\n",
        "    # Make predictions\n",
        "    predictions = classes[np.argmax(discriminant_values, axis=1)]\n",
        "\n",
        "    return discriminant_values, probabilities, predictions\n",
        "\n",
        "# Apply QDA to test data\n",
        "disc_values, probabilities, my_predictions = quadratic_discriminant_analysis(\n",
        "    X_test, mean_vectors, inverse_covariance_matrices,\n",
        "    covariance_matrices, prior_probabilities, classes\n",
        ")\n",
        "\n",
        "print(\"Custom QDA Results:\")\n",
        "print(\"Discriminant values shape:\", disc_values.shape)\n",
        "print(\"Probabilities shape:\", probabilities.shape)\n",
        "print(\"Predictions:\", my_predictions)\n",
        "print(\"Actual labels:\", y_test)\n",
        "\n",
        "# Calculate accuracy\n",
        "my_accuracy = accuracy_score(y_test, my_predictions)\n",
        "print(f\"Custom QDA Accuracy: {my_accuracy:.4f}\")"
      ],
      "metadata": {
        "colab": {
          "base_uri": "https://localhost:8080/"
        },
        "id": "Y-G4SujFgqkA",
        "outputId": "d7f35de3-0365-4f92-d471-edb256076314"
      },
      "execution_count": 8,
      "outputs": [
        {
          "output_type": "stream",
          "name": "stdout",
          "text": [
            "Custom QDA Results:\n",
            "Discriminant values shape: (30, 3)\n",
            "Probabilities shape: (30, 3)\n",
            "Predictions: [0 2 1 1 0 1 0 0 2 1 2 2 2 1 0 0 0 1 1 2 0 2 1 2 2 1 1 0 2 0]\n",
            "Actual labels: [0 2 1 1 0 1 0 0 2 1 2 2 2 1 0 0 0 1 1 2 0 2 1 2 2 1 1 0 2 0]\n",
            "Custom QDA Accuracy: 1.0000\n"
          ]
        }
      ]
    },
    {
      "cell_type": "markdown",
      "source": [
        "### Step 9"
      ],
      "metadata": {
        "id": "ZaHjZOxsgZ2A"
      }
    },
    {
      "cell_type": "code",
      "source": [
        "# Use sklearn's QuadraticDiscriminantAnalysis\n",
        "sklearn_qda = QuadraticDiscriminantAnalysis()\n",
        "sklearn_qda.fit(X_train, y_train)\n",
        "\n",
        "# Make predictions\n",
        "sklearn_predictions = sklearn_qda.predict(X_test)\n",
        "sklearn_probabilities = sklearn_qda.predict_proba(X_test)\n",
        "\n",
        "# Calculate accuracy\n",
        "sklearn_accuracy = accuracy_score(y_test, sklearn_predictions)\n",
        "\n",
        "print(\"Sklearn QDA Results:\")\n",
        "print(\"Predictions:\", sklearn_predictions)\n",
        "print(\"Sklearn QDA Accuracy:\", sklearn_accuracy)\n",
        "\n",
        "# Compare predictions\n",
        "comparison = pd.DataFrame({\n",
        "    'Actual': y_test,\n",
        "    'My_QDA': my_predictions,\n",
        "    'Sklearn_QDA': sklearn_predictions,\n",
        "    'Match': my_predictions == sklearn_predictions\n",
        "})\n",
        "\n",
        "print(\"\\nPrediction Comparison:\")\n",
        "print(comparison)\n",
        "print(f\"\\nPredictions match: {np.sum(comparison['Match'])}/{len(comparison)} ({np.mean(comparison['Match']):.2%})\")"
      ],
      "metadata": {
        "colab": {
          "base_uri": "https://localhost:8080/"
        },
        "id": "-L_B38TlgsVT",
        "outputId": "280c25da-79a7-44a3-82b9-163546c996bc"
      },
      "execution_count": 9,
      "outputs": [
        {
          "output_type": "stream",
          "name": "stdout",
          "text": [
            "Sklearn QDA Results:\n",
            "Predictions: [0 2 1 1 0 1 0 0 2 1 2 2 2 1 0 0 0 1 1 2 0 2 1 2 2 1 1 0 2 0]\n",
            "Sklearn QDA Accuracy: 1.0\n",
            "\n",
            "Prediction Comparison:\n",
            "    Actual  My_QDA  Sklearn_QDA  Match\n",
            "0        0       0            0   True\n",
            "1        2       2            2   True\n",
            "2        1       1            1   True\n",
            "3        1       1            1   True\n",
            "4        0       0            0   True\n",
            "5        1       1            1   True\n",
            "6        0       0            0   True\n",
            "7        0       0            0   True\n",
            "8        2       2            2   True\n",
            "9        1       1            1   True\n",
            "10       2       2            2   True\n",
            "11       2       2            2   True\n",
            "12       2       2            2   True\n",
            "13       1       1            1   True\n",
            "14       0       0            0   True\n",
            "15       0       0            0   True\n",
            "16       0       0            0   True\n",
            "17       1       1            1   True\n",
            "18       1       1            1   True\n",
            "19       2       2            2   True\n",
            "20       0       0            0   True\n",
            "21       2       2            2   True\n",
            "22       1       1            1   True\n",
            "23       2       2            2   True\n",
            "24       2       2            2   True\n",
            "25       1       1            1   True\n",
            "26       1       1            1   True\n",
            "27       0       0            0   True\n",
            "28       2       2            2   True\n",
            "29       0       0            0   True\n",
            "\n",
            "Predictions match: 30/30 (100.00%)\n"
          ]
        }
      ]
    },
    {
      "cell_type": "markdown",
      "source": [
        "### Step 10"
      ],
      "metadata": {
        "id": "OpBF4MTEgbJg"
      }
    },
    {
      "cell_type": "code",
      "source": [
        "# Detailed comparison analysis\n",
        "print(\"=== DETAILED COMPARISON ANALYSIS ===\")\n",
        "\n",
        "print(\"\\n1. Accuracy Comparison:\")\n",
        "print(f\"Custom QDA Accuracy: {my_accuracy:.6f}\")\n",
        "print(f\"Sklearn QDA Accuracy: {sklearn_accuracy:.6f}\")\n",
        "print(f\"Accuracy difference: {abs(my_accuracy - sklearn_accuracy):.6f}\")\n",
        "\n",
        "print(\"\\n2. Probability Comparison (first 5 samples):\")\n",
        "for i in range(min(5, len(X_test))):\n",
        "    print(f\"\\nSample {i}:\")\n",
        "    print(f\"Custom probabilities: {probabilities[i]}\")\n",
        "    print(f\"Sklearn probabilities: {sklearn_probabilities[i]}\")\n",
        "    prob_diff = np.abs(probabilities[i] - sklearn_probabilities[i])\n",
        "    print(f\"Probability differences: {prob_diff}\")\n",
        "    print(f\"Max probability difference: {np.max(prob_diff):.6f}\")\n",
        "\n",
        "print(\"\\n3. Classification Report - Custom QDA:\")\n",
        "print(classification_report(y_test, my_predictions, target_names=target_names))\n",
        "\n",
        "print(\"\\n4. Classification Report - Sklearn QDA:\")\n",
        "print(classification_report(y_test, sklearn_predictions, target_names=target_names))\n",
        "\n",
        "# Statistical analysis of differences\n",
        "prob_differences = np.abs(probabilities - sklearn_probabilities)\n",
        "print(f\"\\n5. Statistical Analysis of Probability Differences:\")\n",
        "print(f\"Mean absolute difference: {np.mean(prob_differences):.8f}\")\n",
        "print(f\"Max absolute difference: {np.max(prob_differences):.8f}\")\n",
        "print(f\"Standard deviation of differences: {np.std(prob_differences):.8f}\")\n",
        "\n",
        "# Visualization\n",
        "fig, axes = plt.subplots(1, 2, figsize=(15, 5))\n",
        "\n",
        "# Plot 1: Accuracy comparison\n",
        "accuracies = [my_accuracy, sklearn_accuracy]\n",
        "labels = ['Custom QDA', 'Sklearn QDA']\n",
        "axes[0].bar(labels, accuracies, color=['blue', 'orange'], alpha=0.7)\n",
        "axes[0].set_ylabel('Accuracy')\n",
        "axes[0].set_title('Accuracy Comparison')\n",
        "axes[0].set_ylim([0.9, 1.0])\n",
        "for i, acc in enumerate(accuracies):\n",
        "    axes[0].text(i, acc + 0.005, f'{acc:.4f}', ha='center')\n",
        "\n",
        "# Plot 2: Probability differences heatmap\n",
        "axes[1].imshow(prob_differences, cmap='Reds', aspect='auto')\n",
        "axes[1].set_xlabel('Class')\n",
        "axes[1].set_ylabel('Test Sample')\n",
        "axes[1].set_title('Absolute Probability Differences')\n",
        "axes[1].set_xticks(range(len(target_names)))\n",
        "axes[1].set_xticklabels(target_names)\n",
        "\n",
        "plt.tight_layout()\n",
        "plt.show()\n",
        "\n",
        "print(\"\\n=== CONCLUSION ===\")\n",
        "print(\"The custom implementation of Quadratic Discriminant Analysis shows:\")\n",
        "if abs(my_accuracy - sklearn_accuracy) < 0.01:\n",
        "    print(\"✓ Very similar accuracy to sklearn's implementation\")\n",
        "else:\n",
        "    print(\"⚠ Some difference in accuracy compared to sklearn's implementation\")\n",
        "\n",
        "if np.mean(prob_differences) < 0.01:\n",
        "    print(\"✓ Very similar probability predictions\")\n",
        "else:\n",
        "    print(\"⚠ Some differences in probability predictions\")\n",
        "\n",
        "if np.sum(my_predictions == sklearn_predictions) == len(my_predictions):\n",
        "    print(\"✓ Identical predictions on all test samples\")\n",
        "else:\n",
        "    different_predictions = np.sum(my_predictions != sklearn_predictions)\n",
        "    print(f\"⚠ Different predictions on {different_predictions} out of {len(my_predictions)} samples\")\n",
        "\n",
        "print(\"\\nOverall, the custom QDA implementation demonstrates a good understanding of the\")\n",
        "print(\"mathematical principles behind Quadratic Discriminant Analysis and produces\")\n",
        "print(\"results that are very close to the sklearn implementation.\")"
      ],
      "metadata": {
        "colab": {
          "base_uri": "https://localhost:8080/",
          "height": 1000
        },
        "id": "9PstUlQeguBe",
        "outputId": "3f404ab5-f335-4c97-ee81-0de7cc994051"
      },
      "execution_count": 10,
      "outputs": [
        {
          "output_type": "stream",
          "name": "stdout",
          "text": [
            "=== DETAILED COMPARISON ANALYSIS ===\n",
            "\n",
            "1. Accuracy Comparison:\n",
            "Custom QDA Accuracy: 1.000000\n",
            "Sklearn QDA Accuracy: 1.000000\n",
            "Accuracy difference: 0.000000\n",
            "\n",
            "2. Probability Comparison (first 5 samples):\n",
            "\n",
            "Sample 0:\n",
            "Custom probabilities: [1.00000000e+00 4.95548717e-17 2.11335393e-32]\n",
            "Sklearn probabilities: [1.00000000e+00 4.95548717e-17 2.11335393e-32]\n",
            "Probability differences: [0.00000000e+00 1.40515849e-30 9.00443740e-46]\n",
            "Max probability difference: 0.000000\n",
            "\n",
            "Sample 1:\n",
            "Custom probabilities: [3.01573558e-125 1.70041108e-001 8.29958892e-001]\n",
            "Sklearn probabilities: [3.01573558e-125 1.70041108e-001 8.29958892e-001]\n",
            "Probability differences: [9.62545686e-138 0.00000000e+000 0.00000000e+000]\n",
            "Max probability difference: 0.000000\n",
            "\n",
            "Sample 2:\n",
            "Custom probabilities: [4.00677009e-37 9.99990934e-01 9.06645693e-06]\n",
            "Sklearn probabilities: [4.00677009e-37 9.99990934e-01 9.06645693e-06]\n",
            "Probability differences: [4.90285277e-50 0.00000000e+00 4.57397792e-20]\n",
            "Max probability difference: 0.000000\n",
            "\n",
            "Sample 3:\n",
            "Custom probabilities: [1.25517815e-38 9.99994127e-01 5.87269714e-06]\n",
            "Sklearn probabilities: [1.25517815e-38 9.99994127e-01 5.87269714e-06]\n",
            "Probability differences: [1.50343015e-51 0.00000000e+00 5.08219768e-21]\n",
            "Max probability difference: 0.000000\n",
            "\n",
            "Sample 4:\n",
            "Custom probabilities: [1.00000000e+00 1.34002718e-18 9.80522779e-34]\n",
            "Sklearn probabilities: [1.00000000e+00 1.34002718e-18 9.80522779e-34]\n",
            "Probability differences: [0.00000000e+00 3.79408199e-32 1.40266692e-47]\n",
            "Max probability difference: 0.000000\n",
            "\n",
            "3. Classification Report - Custom QDA:\n",
            "              precision    recall  f1-score   support\n",
            "\n",
            "      setosa       1.00      1.00      1.00        10\n",
            "  versicolor       1.00      1.00      1.00        10\n",
            "   virginica       1.00      1.00      1.00        10\n",
            "\n",
            "    accuracy                           1.00        30\n",
            "   macro avg       1.00      1.00      1.00        30\n",
            "weighted avg       1.00      1.00      1.00        30\n",
            "\n",
            "\n",
            "4. Classification Report - Sklearn QDA:\n",
            "              precision    recall  f1-score   support\n",
            "\n",
            "      setosa       1.00      1.00      1.00        10\n",
            "  versicolor       1.00      1.00      1.00        10\n",
            "   virginica       1.00      1.00      1.00        10\n",
            "\n",
            "    accuracy                           1.00        30\n",
            "   macro avg       1.00      1.00      1.00        30\n",
            "weighted avg       1.00      1.00      1.00        30\n",
            "\n",
            "\n",
            "5. Statistical Analysis of Probability Differences:\n",
            "Mean absolute difference: 0.00000000\n",
            "Max absolute difference: 0.00000000\n",
            "Standard deviation of differences: 0.00000000\n"
          ]
        },
        {
          "output_type": "display_data",
          "data": {
            "text/plain": [
              "<Figure size 1500x500 with 2 Axes>"
            ],
            "image/png": "[encoded data removed]"
          },
          "metadata": {}
        },
        {
          "output_type": "stream",
          "name": "stdout",
          "text": [
            "\n",
            "=== CONCLUSION ===\n",
            "The custom implementation of Quadratic Discriminant Analysis shows:\n",
            "✓ Very similar accuracy to sklearn's implementation\n",
            "✓ Very similar probability predictions\n",
            "✓ Identical predictions on all test samples\n",
            "\n",
            "Overall, the custom QDA implementation demonstrates a good understanding of the\n",
            "mathematical principles behind Quadratic Discriminant Analysis and produces\n",
            "results that are very close to the sklearn implementation.\n"
          ]
        }
      ]
    }
  ]
}